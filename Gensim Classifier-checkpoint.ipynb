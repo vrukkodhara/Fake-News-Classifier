{
 "cells": [
  {
   "cell_type": "code",
   "execution_count": 1,
   "id": "f6dd2478",
   "metadata": {},
   "outputs": [],
   "source": [
    "import re"
   ]
  },
  {
   "cell_type": "code",
   "execution_count": 16,
   "id": "190aa97b",
   "metadata": {},
   "outputs": [],
   "source": [
    "chat1 = 'codebasics: you ask lot of questions 😠  1235678912, abc@xyz.com'\n",
    "chat2 = ' codebasics: here it is: (123)-567-8912, abc@xyz.com'\n",
    "chat3 = ' codebasics: yes, phone: 1235678912 email: abc@xyz.com'"
   ]
  },
  {
   "cell_type": "code",
   "execution_count": 17,
   "id": "3e85ebe0",
   "metadata": {},
   "outputs": [
    {
     "data": {
      "text/plain": [
       "['1235678912', '(123)-567-8912', '1235678912']"
      ]
     },
     "execution_count": 17,
     "metadata": {},
     "output_type": "execute_result"
    }
   ],
   "source": [
    "pattern = '\\d{10}|\\(\\d{3}\\)-\\d{3}-\\d{4}'\n",
    "re.findall(pattern,chat1+chat2+chat3)"
   ]
  },
  {
   "cell_type": "code",
   "execution_count": 18,
   "id": "55c57643",
   "metadata": {},
   "outputs": [
    {
     "data": {
      "text/plain": [
       "['abc@xyz.com', 'abc@xyz.com', 'abc@xyz.com']"
      ]
     },
     "execution_count": 18,
     "metadata": {},
     "output_type": "execute_result"
    }
   ],
   "source": [
    "# An email id can have letters (a-z), numbers (0-9), dashes (-), underscores (_), apostrophes ('), and periods (.)\n",
    "email_pattern = '[a-zA-Z0-9_\\.\\-\\']*@[a-zA-z]*\\.[a-zA-Z]*'\n",
    "re.findall(email_pattern, chat1+chat2+chat3)"
   ]
  },
  {
   "cell_type": "code",
   "execution_count": 19,
   "id": "79d3659e",
   "metadata": {},
   "outputs": [],
   "source": [
    "chat1='codebasics: Hello, I am having an issue with my order # 412889912'\n",
    "chat2='codebasics: I have a problem with my order number 412889912'\n",
    "chat3='codebasics: My order 412889912 is having an issue, I was charged 300$ when online it says 280$'"
   ]
  },
  {
   "cell_type": "code",
   "execution_count": 23,
   "id": "22c1a70d",
   "metadata": {},
   "outputs": [
    {
     "data": {
      "text/plain": [
       "['412889912', '412889912', '412889912']"
      ]
     },
     "execution_count": 23,
     "metadata": {},
     "output_type": "execute_result"
    }
   ],
   "source": [
    "order_number_pattern = 'order[\\D]*(\\d*)'\n",
    "re.findall(order_number_pattern, chat1+chat2+chat3)"
   ]
  },
  {
   "cell_type": "code",
   "execution_count": 27,
   "id": "0a708616",
   "metadata": {},
   "outputs": [
    {
     "name": "stdout",
     "output_type": "stream",
     "text": [
      "Num GPUs Available:  1\n"
     ]
    }
   ],
   "source": [
    "import tensorflow as tf\n",
    "print(\"Num GPUs Available: \", len(tf.config.list_physical_devices('GPU')))"
   ]
  },
  {
   "cell_type": "code",
   "execution_count": 1,
   "id": "ac1d9a12",
   "metadata": {},
   "outputs": [
    {
     "name": "stdout",
     "output_type": "stream",
     "text": [
      "Collecting nltk\n",
      "  Using cached nltk-3.8.1-py3-none-any.whl (1.5 MB)\n",
      "Requirement already satisfied: click in c:\\users\\nagasai\\anaconda3\\envs\\newenv\\lib\\site-packages (from nltk) (8.0.4)\n",
      "Collecting joblib\n",
      "  Using cached joblib-1.3.2-py3-none-any.whl (302 kB)\n",
      "Collecting regex>=2021.8.3\n",
      "  Downloading regex-2023.12.25-cp37-cp37m-win_amd64.whl (270 kB)\n",
      "     -------------------------------------- 270.2/270.2 kB 5.5 MB/s eta 0:00:00\n",
      "Collecting tqdm\n",
      "  Downloading tqdm-4.66.2-py3-none-any.whl (78 kB)\n",
      "     ---------------------------------------- 78.3/78.3 kB ? eta 0:00:00\n",
      "Requirement already satisfied: colorama in c:\\users\\nagasai\\anaconda3\\envs\\newenv\\lib\\site-packages (from click->nltk) (0.4.6)\n",
      "Requirement already satisfied: importlib-metadata in c:\\users\\nagasai\\anaconda3\\envs\\newenv\\lib\\site-packages (from click->nltk) (4.11.3)\n",
      "Requirement already satisfied: zipp>=0.5 in c:\\users\\nagasai\\anaconda3\\envs\\newenv\\lib\\site-packages (from importlib-metadata->click->nltk) (3.11.0)\n",
      "Requirement already satisfied: typing-extensions>=3.6.4 in c:\\users\\nagasai\\anaconda3\\envs\\newenv\\lib\\site-packages (from importlib-metadata->click->nltk) (4.3.0)\n",
      "Installing collected packages: tqdm, regex, joblib, nltk\n",
      "Successfully installed joblib-1.3.2 nltk-3.8.1 regex-2023.12.25 tqdm-4.66.2\n"
     ]
    }
   ],
   "source": [
    "!pip install nltk"
   ]
  },
  {
   "cell_type": "code",
   "execution_count": 2,
   "id": "b04e6879",
   "metadata": {},
   "outputs": [
    {
     "name": "stdout",
     "output_type": "stream",
     "text": [
      "Collecting spacy\n",
      "  Downloading spacy-3.7.4-cp37-cp37m-win_amd64.whl (12.4 MB)\n",
      "     ---------------------------------------- 12.4/12.4 MB 5.0 MB/s eta 0:00:00\n",
      "Collecting pydantic!=1.8,!=1.8.1,<3.0.0,>=1.7.4\n",
      "  Downloading pydantic-2.5.3-py3-none-any.whl (381 kB)\n",
      "     -------------------------------------- 381.9/381.9 kB 3.0 MB/s eta 0:00:00\n",
      "Collecting preshed<3.1.0,>=3.0.2\n",
      "  Downloading preshed-3.0.9-cp37-cp37m-win_amd64.whl (122 kB)\n",
      "     -------------------------------------- 122.6/122.6 kB 7.0 MB/s eta 0:00:00\n",
      "Requirement already satisfied: tqdm<5.0.0,>=4.38.0 in c:\\users\\nagasai\\anaconda3\\envs\\newenv\\lib\\site-packages (from spacy) (4.66.2)\n",
      "Collecting wasabi<1.2.0,>=0.9.1\n",
      "  Downloading wasabi-1.1.2-py3-none-any.whl (27 kB)\n",
      "Collecting catalogue<2.1.0,>=2.0.6\n",
      "  Downloading catalogue-2.0.10-py3-none-any.whl (17 kB)\n",
      "Collecting weasel<0.4.0,>=0.1.0\n",
      "  Downloading weasel-0.3.4-py3-none-any.whl (50 kB)\n",
      "     ---------------------------------------- 50.1/50.1 kB ? eta 0:00:00\n",
      "Collecting murmurhash<1.1.0,>=0.28.0\n",
      "  Downloading murmurhash-1.0.10-cp37-cp37m-win_amd64.whl (25 kB)\n",
      "Collecting typer<0.10.0,>=0.3.0\n",
      "  Downloading typer-0.9.0-py3-none-any.whl (45 kB)\n",
      "     ---------------------------------------- 45.9/45.9 kB ? eta 0:00:00\n",
      "Requirement already satisfied: packaging>=20.0 in c:\\users\\nagasai\\anaconda3\\envs\\newenv\\lib\\site-packages (from spacy) (23.2)\n",
      "Requirement already satisfied: setuptools in c:\\users\\nagasai\\anaconda3\\envs\\newenv\\lib\\site-packages (from spacy) (65.6.3)\n",
      "Requirement already satisfied: jinja2 in c:\\users\\nagasai\\anaconda3\\envs\\newenv\\lib\\site-packages (from spacy) (3.1.3)\n",
      "Collecting smart-open<7.0.0,>=5.2.1\n",
      "  Downloading smart_open-6.4.0-py3-none-any.whl (57 kB)\n",
      "     ---------------------------------------- 57.0/57.0 kB 2.9 MB/s eta 0:00:00\n",
      "Requirement already satisfied: typing-extensions<4.5.0,>=3.7.4.1 in c:\\users\\nagasai\\anaconda3\\envs\\newenv\\lib\\site-packages (from spacy) (4.3.0)\n",
      "Collecting cymem<2.1.0,>=2.0.2\n",
      "  Downloading cymem-2.0.8-cp37-cp37m-win_amd64.whl (39 kB)\n",
      "Collecting spacy-legacy<3.1.0,>=3.0.11\n",
      "  Downloading spacy_legacy-3.0.12-py2.py3-none-any.whl (29 kB)\n",
      "Requirement already satisfied: numpy>=1.15.0 in c:\\users\\nagasai\\anaconda3\\envs\\newenv\\lib\\site-packages (from spacy) (1.21.5)\n",
      "Collecting spacy-loggers<2.0.0,>=1.0.0\n",
      "  Downloading spacy_loggers-1.0.5-py3-none-any.whl (22 kB)\n",
      "Collecting langcodes<4.0.0,>=3.2.0\n",
      "  Downloading langcodes-3.3.0-py3-none-any.whl (181 kB)\n",
      "     -------------------------------------- 181.6/181.6 kB 5.5 MB/s eta 0:00:00\n",
      "Requirement already satisfied: requests<3.0.0,>=2.13.0 in c:\\users\\nagasai\\anaconda3\\envs\\newenv\\lib\\site-packages (from spacy) (2.28.1)\n",
      "Collecting srsly<3.0.0,>=2.4.3\n",
      "  Downloading srsly-2.4.8-cp37-cp37m-win_amd64.whl (482 kB)\n",
      "     -------------------------------------- 482.7/482.7 kB 3.8 MB/s eta 0:00:00\n",
      "Collecting thinc<8.3.0,>=8.2.2\n",
      "  Downloading thinc-8.2.3-cp37-cp37m-win_amd64.whl (1.5 MB)\n",
      "     ---------------------------------------- 1.5/1.5 MB 2.4 MB/s eta 0:00:00\n",
      "Requirement already satisfied: zipp>=0.5 in c:\\users\\nagasai\\anaconda3\\envs\\newenv\\lib\\site-packages (from catalogue<2.1.0,>=2.0.6->spacy) (3.11.0)\n",
      "Requirement already satisfied: importlib-metadata in c:\\users\\nagasai\\anaconda3\\envs\\newenv\\lib\\site-packages (from pydantic!=1.8,!=1.8.1,<3.0.0,>=1.7.4->spacy) (4.11.3)\n",
      "Collecting annotated-types>=0.4.0\n",
      "  Downloading annotated_types-0.5.0-py3-none-any.whl (11 kB)\n",
      "Collecting pydantic-core==2.14.6\n",
      "  Downloading pydantic_core-2.14.6-cp37-none-win_amd64.whl (1.9 MB)\n",
      "     ---------------------------------------- 1.9/1.9 MB 8.0 MB/s eta 0:00:00\n",
      "Collecting pydantic!=1.8,!=1.8.1,<3.0.0,>=1.7.4\n",
      "  Downloading pydantic-2.5.2-py3-none-any.whl (381 kB)\n",
      "     -------------------------------------- 381.9/381.9 kB 6.0 MB/s eta 0:00:00\n",
      "Collecting pydantic-core==2.14.5\n",
      "  Downloading pydantic_core-2.14.5-cp37-none-win_amd64.whl (1.9 MB)\n",
      "     ---------------------------------------- 1.9/1.9 MB 6.7 MB/s eta 0:00:00\n",
      "Collecting pydantic!=1.8,!=1.8.1,<3.0.0,>=1.7.4\n",
      "  Downloading pydantic-2.5.1-py3-none-any.whl (381 kB)\n",
      "     -------------------------------------- 381.6/381.6 kB 5.9 MB/s eta 0:00:00\n",
      "Collecting pydantic-core==2.14.3\n",
      "  Downloading pydantic_core-2.14.3-cp37-none-win_amd64.whl (1.9 MB)\n",
      "     ---------------------------------------- 1.9/1.9 MB 5.7 MB/s eta 0:00:00\n",
      "Collecting pydantic!=1.8,!=1.8.1,<3.0.0,>=1.7.4\n",
      "  Downloading pydantic-2.5.0-py3-none-any.whl (407 kB)\n",
      "     -------------------------------------- 407.5/407.5 kB 6.4 MB/s eta 0:00:00\n",
      "  Downloading pydantic-2.4.2-py3-none-any.whl (395 kB)\n",
      "     -------------------------------------- 395.8/395.8 kB 8.4 MB/s eta 0:00:00\n",
      "Collecting pydantic-core==2.10.1\n",
      "  Downloading pydantic_core-2.10.1-cp37-none-win_amd64.whl (2.0 MB)\n",
      "     ---------------------------------------- 2.0/2.0 MB 7.4 MB/s eta 0:00:00\n",
      "Collecting pydantic!=1.8,!=1.8.1,<3.0.0,>=1.7.4\n",
      "  Downloading pydantic-2.4.1-py3-none-any.whl (395 kB)\n",
      "     -------------------------------------- 395.3/395.3 kB 4.9 MB/s eta 0:00:00\n",
      "  Downloading pydantic-2.4.0-py3-none-any.whl (395 kB)\n",
      "     -------------------------------------- 395.4/395.4 kB 4.9 MB/s eta 0:00:00\n",
      "Collecting pydantic-core==2.10.0\n",
      "  Downloading pydantic_core-2.10.0-cp37-none-win_amd64.whl (2.0 MB)\n",
      "     ---------------------------------------- 2.0/2.0 MB 5.5 MB/s eta 0:00:00\n",
      "Collecting pydantic!=1.8,!=1.8.1,<3.0.0,>=1.7.4\n",
      "  Downloading pydantic-2.3.0-py3-none-any.whl (374 kB)\n",
      "     -------------------------------------- 374.5/374.5 kB 7.9 MB/s eta 0:00:00\n",
      "Collecting pydantic-core==2.6.3\n",
      "  Downloading pydantic_core-2.6.3-cp37-none-win_amd64.whl (1.7 MB)\n",
      "     ---------------------------------------- 1.7/1.7 MB 11.1 MB/s eta 0:00:00\n",
      "Collecting pydantic!=1.8,!=1.8.1,<3.0.0,>=1.7.4\n",
      "  Downloading pydantic-2.2.1-py3-none-any.whl (373 kB)\n",
      "     -------------------------------------- 373.4/373.4 kB 5.9 MB/s eta 0:00:00\n",
      "  Downloading pydantic-2.2.0-py3-none-any.whl (373 kB)\n",
      "     ------------------------------------- 373.2/373.2 kB 11.7 MB/s eta 0:00:00\n",
      "Collecting pydantic-core==2.6.0\n",
      "  Downloading pydantic_core-2.6.0-cp37-none-win_amd64.whl (1.8 MB)\n",
      "     ---------------------------------------- 1.8/1.8 MB 6.6 MB/s eta 0:00:00\n",
      "Collecting pydantic!=1.8,!=1.8.1,<3.0.0,>=1.7.4\n",
      "  Downloading pydantic-2.1.1-py3-none-any.whl (370 kB)\n",
      "     ------------------------------------- 370.9/370.9 kB 11.6 MB/s eta 0:00:00\n",
      "Collecting pydantic-core==2.4.0\n",
      "  Downloading pydantic_core-2.4.0-cp37-none-win_amd64.whl (1.7 MB)\n",
      "     ---------------------------------------- 1.7/1.7 MB 874.8 kB/s eta 0:00:00\n",
      "Collecting pydantic!=1.8,!=1.8.1,<3.0.0,>=1.7.4\n",
      "  Downloading pydantic-2.1.0-py3-none-any.whl (370 kB)\n",
      "     -------------------------------------- 370.8/370.8 kB 1.9 MB/s eta 0:00:00\n",
      "  Downloading pydantic-2.0.3-py3-none-any.whl (364 kB)\n",
      "     -------------------------------------- 364.0/364.0 kB 3.2 MB/s eta 0:00:00\n",
      "  Downloading pydantic-2.0.2-py3-none-any.whl (359 kB)\n",
      "     -------------------------------------- 359.1/359.1 kB 2.5 MB/s eta 0:00:00\n",
      "  Downloading pydantic-2.0.1-py3-none-any.whl (358 kB)\n",
      "     -------------------------------------- 358.4/358.4 kB 7.4 MB/s eta 0:00:00\n",
      "Collecting pydantic-core==2.0.2\n",
      "  Downloading pydantic_core-2.0.2-cp37-none-win_amd64.whl (1.5 MB)\n",
      "     ---------------------------------------- 1.5/1.5 MB 4.3 MB/s eta 0:00:00\n",
      "Collecting pydantic!=1.8,!=1.8.1,<3.0.0,>=1.7.4\n",
      "  Downloading pydantic-2.0-py3-none-any.whl (355 kB)\n",
      "     -------------------------------------- 355.6/355.6 kB 4.4 MB/s eta 0:00:00\n",
      "  Downloading pydantic-1.10.14-cp37-cp37m-win_amd64.whl (2.1 MB)\n",
      "     ---------------------------------------- 2.1/2.1 MB 3.8 MB/s eta 0:00:00\n",
      "Requirement already satisfied: urllib3<1.27,>=1.21.1 in c:\\users\\nagasai\\anaconda3\\envs\\newenv\\lib\\site-packages (from requests<3.0.0,>=2.13.0->spacy) (1.26.14)\n",
      "Requirement already satisfied: certifi>=2017.4.17 in c:\\users\\nagasai\\anaconda3\\envs\\newenv\\lib\\site-packages (from requests<3.0.0,>=2.13.0->spacy) (2022.12.7)\n",
      "Requirement already satisfied: charset-normalizer<3,>=2 in c:\\users\\nagasai\\anaconda3\\envs\\newenv\\lib\\site-packages (from requests<3.0.0,>=2.13.0->spacy) (2.0.4)\n",
      "Requirement already satisfied: idna<4,>=2.5 in c:\\users\\nagasai\\anaconda3\\envs\\newenv\\lib\\site-packages (from requests<3.0.0,>=2.13.0->spacy) (3.4)\n",
      "Collecting confection<1.0.0,>=0.0.1\n",
      "  Downloading confection-0.1.4-py3-none-any.whl (35 kB)\n",
      "Collecting blis<0.8.0,>=0.7.8\n",
      "  Downloading blis-0.7.11-cp37-cp37m-win_amd64.whl (6.6 MB)\n",
      "     ---------------------------------------- 6.6/6.6 MB 2.0 MB/s eta 0:00:00\n",
      "Requirement already satisfied: colorama in c:\\users\\nagasai\\anaconda3\\envs\\newenv\\lib\\site-packages (from tqdm<5.0.0,>=4.38.0->spacy) (0.4.6)\n",
      "Requirement already satisfied: click<9.0.0,>=7.1.1 in c:\\users\\nagasai\\anaconda3\\envs\\newenv\\lib\\site-packages (from typer<0.10.0,>=0.3.0->spacy) (8.0.4)\n",
      "Collecting cloudpathlib<0.17.0,>=0.7.0\n",
      "  Downloading cloudpathlib-0.16.0-py3-none-any.whl (45 kB)\n",
      "     ---------------------------------------- 45.0/45.0 kB ? eta 0:00:00\n",
      "Requirement already satisfied: MarkupSafe>=2.0 in c:\\users\\nagasai\\anaconda3\\envs\\newenv\\lib\\site-packages (from jinja2->spacy) (2.1.1)\n",
      "Installing collected packages: cymem, wasabi, spacy-loggers, spacy-legacy, smart-open, pydantic, murmurhash, langcodes, catalogue, blis, srsly, preshed, cloudpathlib, typer, confection, weasel, thinc, spacy\n",
      "Successfully installed blis-0.7.11 catalogue-2.0.10 cloudpathlib-0.16.0 confection-0.1.4 cymem-2.0.8 langcodes-3.3.0 murmurhash-1.0.10 preshed-3.0.9 pydantic-1.10.14 smart-open-6.4.0 spacy-3.7.4 spacy-legacy-3.0.12 spacy-loggers-1.0.5 srsly-2.4.8 thinc-8.2.3 typer-0.9.0 wasabi-1.1.2 weasel-0.3.4\n"
     ]
    }
   ],
   "source": [
    "!pip install spacy"
   ]
  },
  {
   "cell_type": "code",
   "execution_count": 3,
   "id": "25776ecf",
   "metadata": {},
   "outputs": [
    {
     "name": "stdout",
     "output_type": "stream",
     "text": [
      "Collecting en-core-web-sm==3.7.1\n",
      "  Downloading https://github.com/explosion/spacy-models/releases/download/en_core_web_sm-3.7.1/en_core_web_sm-3.7.1-py3-none-any.whl (12.8 MB)\n",
      "     --------------------------------------- 12.8/12.8 MB 11.5 MB/s eta 0:00:00\n",
      "Requirement already satisfied: spacy<3.8.0,>=3.7.2 in c:\\users\\nagasai\\anaconda3\\envs\\newenv\\lib\\site-packages (from en-core-web-sm==3.7.1) (3.7.4)\n",
      "Requirement already satisfied: wasabi<1.2.0,>=0.9.1 in c:\\users\\nagasai\\anaconda3\\envs\\newenv\\lib\\site-packages (from spacy<3.8.0,>=3.7.2->en-core-web-sm==3.7.1) (1.1.2)\n",
      "Requirement already satisfied: thinc<8.3.0,>=8.2.2 in c:\\users\\nagasai\\anaconda3\\envs\\newenv\\lib\\site-packages (from spacy<3.8.0,>=3.7.2->en-core-web-sm==3.7.1) (8.2.3)\n",
      "Requirement already satisfied: cymem<2.1.0,>=2.0.2 in c:\\users\\nagasai\\anaconda3\\envs\\newenv\\lib\\site-packages (from spacy<3.8.0,>=3.7.2->en-core-web-sm==3.7.1) (2.0.8)\n",
      "Requirement already satisfied: setuptools in c:\\users\\nagasai\\anaconda3\\envs\\newenv\\lib\\site-packages (from spacy<3.8.0,>=3.7.2->en-core-web-sm==3.7.1) (65.6.3)\n",
      "Requirement already satisfied: numpy>=1.15.0 in c:\\users\\nagasai\\anaconda3\\envs\\newenv\\lib\\site-packages (from spacy<3.8.0,>=3.7.2->en-core-web-sm==3.7.1) (1.21.5)\n",
      "Requirement already satisfied: preshed<3.1.0,>=3.0.2 in c:\\users\\nagasai\\anaconda3\\envs\\newenv\\lib\\site-packages (from spacy<3.8.0,>=3.7.2->en-core-web-sm==3.7.1) (3.0.9)\n",
      "Requirement already satisfied: spacy-loggers<2.0.0,>=1.0.0 in c:\\users\\nagasai\\anaconda3\\envs\\newenv\\lib\\site-packages (from spacy<3.8.0,>=3.7.2->en-core-web-sm==3.7.1) (1.0.5)\n",
      "Requirement already satisfied: requests<3.0.0,>=2.13.0 in c:\\users\\nagasai\\anaconda3\\envs\\newenv\\lib\\site-packages (from spacy<3.8.0,>=3.7.2->en-core-web-sm==3.7.1) (2.28.1)\n",
      "Requirement already satisfied: jinja2 in c:\\users\\nagasai\\anaconda3\\envs\\newenv\\lib\\site-packages (from spacy<3.8.0,>=3.7.2->en-core-web-sm==3.7.1) (3.1.3)\n",
      "Requirement already satisfied: typer<0.10.0,>=0.3.0 in c:\\users\\nagasai\\anaconda3\\envs\\newenv\\lib\\site-packages (from spacy<3.8.0,>=3.7.2->en-core-web-sm==3.7.1) (0.9.0)\n",
      "Requirement already satisfied: pydantic!=1.8,!=1.8.1,<3.0.0,>=1.7.4 in c:\\users\\nagasai\\anaconda3\\envs\\newenv\\lib\\site-packages (from spacy<3.8.0,>=3.7.2->en-core-web-sm==3.7.1) (1.10.14)\n",
      "Requirement already satisfied: tqdm<5.0.0,>=4.38.0 in c:\\users\\nagasai\\anaconda3\\envs\\newenv\\lib\\site-packages (from spacy<3.8.0,>=3.7.2->en-core-web-sm==3.7.1) (4.66.2)\n",
      "Requirement already satisfied: weasel<0.4.0,>=0.1.0 in c:\\users\\nagasai\\anaconda3\\envs\\newenv\\lib\\site-packages (from spacy<3.8.0,>=3.7.2->en-core-web-sm==3.7.1) (0.3.4)\n",
      "Requirement already satisfied: spacy-legacy<3.1.0,>=3.0.11 in c:\\users\\nagasai\\anaconda3\\envs\\newenv\\lib\\site-packages (from spacy<3.8.0,>=3.7.2->en-core-web-sm==3.7.1) (3.0.12)\n",
      "Requirement already satisfied: langcodes<4.0.0,>=3.2.0 in c:\\users\\nagasai\\anaconda3\\envs\\newenv\\lib\\site-packages (from spacy<3.8.0,>=3.7.2->en-core-web-sm==3.7.1) (3.3.0)\n",
      "Requirement already satisfied: srsly<3.0.0,>=2.4.3 in c:\\users\\nagasai\\anaconda3\\envs\\newenv\\lib\\site-packages (from spacy<3.8.0,>=3.7.2->en-core-web-sm==3.7.1) (2.4.8)\n",
      "Requirement already satisfied: smart-open<7.0.0,>=5.2.1 in c:\\users\\nagasai\\anaconda3\\envs\\newenv\\lib\\site-packages (from spacy<3.8.0,>=3.7.2->en-core-web-sm==3.7.1) (6.4.0)\n",
      "Requirement already satisfied: murmurhash<1.1.0,>=0.28.0 in c:\\users\\nagasai\\anaconda3\\envs\\newenv\\lib\\site-packages (from spacy<3.8.0,>=3.7.2->en-core-web-sm==3.7.1) (1.0.10)\n",
      "Requirement already satisfied: catalogue<2.1.0,>=2.0.6 in c:\\users\\nagasai\\anaconda3\\envs\\newenv\\lib\\site-packages (from spacy<3.8.0,>=3.7.2->en-core-web-sm==3.7.1) (2.0.10)\n",
      "Requirement already satisfied: packaging>=20.0 in c:\\users\\nagasai\\anaconda3\\envs\\newenv\\lib\\site-packages (from spacy<3.8.0,>=3.7.2->en-core-web-sm==3.7.1) (23.2)\n",
      "Requirement already satisfied: typing-extensions<4.5.0,>=3.7.4.1 in c:\\users\\nagasai\\anaconda3\\envs\\newenv\\lib\\site-packages (from spacy<3.8.0,>=3.7.2->en-core-web-sm==3.7.1) (4.3.0)\n",
      "Requirement already satisfied: zipp>=0.5 in c:\\users\\nagasai\\anaconda3\\envs\\newenv\\lib\\site-packages (from catalogue<2.1.0,>=2.0.6->spacy<3.8.0,>=3.7.2->en-core-web-sm==3.7.1) (3.11.0)\n",
      "Requirement already satisfied: idna<4,>=2.5 in c:\\users\\nagasai\\anaconda3\\envs\\newenv\\lib\\site-packages (from requests<3.0.0,>=2.13.0->spacy<3.8.0,>=3.7.2->en-core-web-sm==3.7.1) (3.4)\n",
      "Requirement already satisfied: urllib3<1.27,>=1.21.1 in c:\\users\\nagasai\\anaconda3\\envs\\newenv\\lib\\site-packages (from requests<3.0.0,>=2.13.0->spacy<3.8.0,>=3.7.2->en-core-web-sm==3.7.1) (1.26.14)\n",
      "Requirement already satisfied: certifi>=2017.4.17 in c:\\users\\nagasai\\anaconda3\\envs\\newenv\\lib\\site-packages (from requests<3.0.0,>=2.13.0->spacy<3.8.0,>=3.7.2->en-core-web-sm==3.7.1) (2022.12.7)\n",
      "Requirement already satisfied: charset-normalizer<3,>=2 in c:\\users\\nagasai\\anaconda3\\envs\\newenv\\lib\\site-packages (from requests<3.0.0,>=2.13.0->spacy<3.8.0,>=3.7.2->en-core-web-sm==3.7.1) (2.0.4)\n",
      "Requirement already satisfied: confection<1.0.0,>=0.0.1 in c:\\users\\nagasai\\anaconda3\\envs\\newenv\\lib\\site-packages (from thinc<8.3.0,>=8.2.2->spacy<3.8.0,>=3.7.2->en-core-web-sm==3.7.1) (0.1.4)\n",
      "Requirement already satisfied: blis<0.8.0,>=0.7.8 in c:\\users\\nagasai\\anaconda3\\envs\\newenv\\lib\\site-packages (from thinc<8.3.0,>=8.2.2->spacy<3.8.0,>=3.7.2->en-core-web-sm==3.7.1) (0.7.11)\n",
      "Requirement already satisfied: colorama in c:\\users\\nagasai\\anaconda3\\envs\\newenv\\lib\\site-packages (from tqdm<5.0.0,>=4.38.0->spacy<3.8.0,>=3.7.2->en-core-web-sm==3.7.1) (0.4.6)\n",
      "Requirement already satisfied: click<9.0.0,>=7.1.1 in c:\\users\\nagasai\\anaconda3\\envs\\newenv\\lib\\site-packages (from typer<0.10.0,>=0.3.0->spacy<3.8.0,>=3.7.2->en-core-web-sm==3.7.1) (8.0.4)\n",
      "Requirement already satisfied: cloudpathlib<0.17.0,>=0.7.0 in c:\\users\\nagasai\\anaconda3\\envs\\newenv\\lib\\site-packages (from weasel<0.4.0,>=0.1.0->spacy<3.8.0,>=3.7.2->en-core-web-sm==3.7.1) (0.16.0)\n",
      "Requirement already satisfied: MarkupSafe>=2.0 in c:\\users\\nagasai\\anaconda3\\envs\\newenv\\lib\\site-packages (from jinja2->spacy<3.8.0,>=3.7.2->en-core-web-sm==3.7.1) (2.1.1)\n",
      "Requirement already satisfied: importlib-metadata in c:\\users\\nagasai\\anaconda3\\envs\\newenv\\lib\\site-packages (from click<9.0.0,>=7.1.1->typer<0.10.0,>=0.3.0->spacy<3.8.0,>=3.7.2->en-core-web-sm==3.7.1) (4.11.3)\n",
      "Installing collected packages: en-core-web-sm\n",
      "Successfully installed en-core-web-sm-3.7.1\n",
      "\u001b[38;5;3m[!] As of spaCy v3.0, shortcuts like 'en' are deprecated. Please use\n",
      "the full pipeline package name 'en_core_web_sm' instead.\u001b[0m\n",
      "\u001b[38;5;2m[+] Download and installation successful\u001b[0m\n",
      "You can now load the package via spacy.load('en_core_web_sm')\n"
     ]
    }
   ],
   "source": [
    "!python -m spacy download en"
   ]
  },
  {
   "cell_type": "code",
   "execution_count": 4,
   "id": "51c5716d",
   "metadata": {},
   "outputs": [],
   "source": [
    "import spacy"
   ]
  },
  {
   "cell_type": "code",
   "execution_count": 9,
   "id": "9397592f",
   "metadata": {},
   "outputs": [],
   "source": [
    "nlp = spacy.load('en_core_web_sm')"
   ]
  },
  {
   "cell_type": "code",
   "execution_count": 10,
   "id": "f348b36e",
   "metadata": {},
   "outputs": [
    {
     "name": "stdout",
     "output_type": "stream",
     "text": [
      "hELLO.\n",
      "This is me.\n",
      "Its nyc to meet you!\n"
     ]
    }
   ],
   "source": [
    "doc = nlp(\"hELLO. This is me. Its nyc to meet you!\")\n",
    "for sentence in doc.sents:\n",
    "    print(sentence)"
   ]
  },
  {
   "cell_type": "markdown",
   "id": "0c3decda",
   "metadata": {},
   "source": [
    "## Day 3"
   ]
  },
  {
   "cell_type": "code",
   "execution_count": 1,
   "id": "fa8acafb",
   "metadata": {},
   "outputs": [],
   "source": [
    "import spacy"
   ]
  },
  {
   "cell_type": "code",
   "execution_count": 4,
   "id": "b258ba80",
   "metadata": {},
   "outputs": [
    {
     "name": "stdout",
     "output_type": "stream",
     "text": [
      "Collecting en-core-web-lg==3.7.1\n",
      "  Downloading https://github.com/explosion/spacy-models/releases/download/en_core_web_lg-3.7.1/en_core_web_lg-3.7.1-py3-none-any.whl (587.7 MB)\n",
      "     ------------------------------------ 587.7/587.7 MB 916.6 kB/s eta 0:00:00\n",
      "Requirement already satisfied: spacy<3.8.0,>=3.7.2 in c:\\users\\nagasai\\anaconda3\\envs\\newenv\\lib\\site-packages (from en-core-web-lg==3.7.1) (3.7.4)\n",
      "Requirement already satisfied: requests<3.0.0,>=2.13.0 in c:\\users\\nagasai\\anaconda3\\envs\\newenv\\lib\\site-packages (from spacy<3.8.0,>=3.7.2->en-core-web-lg==3.7.1) (2.28.1)\n",
      "Requirement already satisfied: wasabi<1.2.0,>=0.9.1 in c:\\users\\nagasai\\anaconda3\\envs\\newenv\\lib\\site-packages (from spacy<3.8.0,>=3.7.2->en-core-web-lg==3.7.1) (1.1.2)\n",
      "Requirement already satisfied: packaging>=20.0 in c:\\users\\nagasai\\anaconda3\\envs\\newenv\\lib\\site-packages (from spacy<3.8.0,>=3.7.2->en-core-web-lg==3.7.1) (23.2)\n",
      "Requirement already satisfied: spacy-loggers<2.0.0,>=1.0.0 in c:\\users\\nagasai\\anaconda3\\envs\\newenv\\lib\\site-packages (from spacy<3.8.0,>=3.7.2->en-core-web-lg==3.7.1) (1.0.5)\n",
      "Requirement already satisfied: numpy>=1.15.0 in c:\\users\\nagasai\\anaconda3\\envs\\newenv\\lib\\site-packages (from spacy<3.8.0,>=3.7.2->en-core-web-lg==3.7.1) (1.21.5)\n",
      "Requirement already satisfied: smart-open<7.0.0,>=5.2.1 in c:\\users\\nagasai\\anaconda3\\envs\\newenv\\lib\\site-packages (from spacy<3.8.0,>=3.7.2->en-core-web-lg==3.7.1) (6.4.0)\n",
      "Requirement already satisfied: typer<0.10.0,>=0.3.0 in c:\\users\\nagasai\\anaconda3\\envs\\newenv\\lib\\site-packages (from spacy<3.8.0,>=3.7.2->en-core-web-lg==3.7.1) (0.9.0)\n",
      "Requirement already satisfied: typing-extensions<4.5.0,>=3.7.4.1 in c:\\users\\nagasai\\anaconda3\\envs\\newenv\\lib\\site-packages (from spacy<3.8.0,>=3.7.2->en-core-web-lg==3.7.1) (4.3.0)\n",
      "Requirement already satisfied: preshed<3.1.0,>=3.0.2 in c:\\users\\nagasai\\anaconda3\\envs\\newenv\\lib\\site-packages (from spacy<3.8.0,>=3.7.2->en-core-web-lg==3.7.1) (3.0.9)\n",
      "Requirement already satisfied: setuptools in c:\\users\\nagasai\\anaconda3\\envs\\newenv\\lib\\site-packages (from spacy<3.8.0,>=3.7.2->en-core-web-lg==3.7.1) (65.6.3)\n",
      "Requirement already satisfied: thinc<8.3.0,>=8.2.2 in c:\\users\\nagasai\\anaconda3\\envs\\newenv\\lib\\site-packages (from spacy<3.8.0,>=3.7.2->en-core-web-lg==3.7.1) (8.2.3)\n",
      "Requirement already satisfied: srsly<3.0.0,>=2.4.3 in c:\\users\\nagasai\\anaconda3\\envs\\newenv\\lib\\site-packages (from spacy<3.8.0,>=3.7.2->en-core-web-lg==3.7.1) (2.4.8)\n",
      "Requirement already satisfied: cymem<2.1.0,>=2.0.2 in c:\\users\\nagasai\\anaconda3\\envs\\newenv\\lib\\site-packages (from spacy<3.8.0,>=3.7.2->en-core-web-lg==3.7.1) (2.0.8)\n",
      "Requirement already satisfied: catalogue<2.1.0,>=2.0.6 in c:\\users\\nagasai\\anaconda3\\envs\\newenv\\lib\\site-packages (from spacy<3.8.0,>=3.7.2->en-core-web-lg==3.7.1) (2.0.10)\n",
      "Requirement already satisfied: murmurhash<1.1.0,>=0.28.0 in c:\\users\\nagasai\\anaconda3\\envs\\newenv\\lib\\site-packages (from spacy<3.8.0,>=3.7.2->en-core-web-lg==3.7.1) (1.0.10)\n",
      "Requirement already satisfied: pydantic!=1.8,!=1.8.1,<3.0.0,>=1.7.4 in c:\\users\\nagasai\\anaconda3\\envs\\newenv\\lib\\site-packages (from spacy<3.8.0,>=3.7.2->en-core-web-lg==3.7.1) (1.10.14)\n",
      "Requirement already satisfied: weasel<0.4.0,>=0.1.0 in c:\\users\\nagasai\\anaconda3\\envs\\newenv\\lib\\site-packages (from spacy<3.8.0,>=3.7.2->en-core-web-lg==3.7.1) (0.3.4)\n",
      "Requirement already satisfied: langcodes<4.0.0,>=3.2.0 in c:\\users\\nagasai\\anaconda3\\envs\\newenv\\lib\\site-packages (from spacy<3.8.0,>=3.7.2->en-core-web-lg==3.7.1) (3.3.0)\n",
      "Requirement already satisfied: spacy-legacy<3.1.0,>=3.0.11 in c:\\users\\nagasai\\anaconda3\\envs\\newenv\\lib\\site-packages (from spacy<3.8.0,>=3.7.2->en-core-web-lg==3.7.1) (3.0.12)\n",
      "Requirement already satisfied: tqdm<5.0.0,>=4.38.0 in c:\\users\\nagasai\\anaconda3\\envs\\newenv\\lib\\site-packages (from spacy<3.8.0,>=3.7.2->en-core-web-lg==3.7.1) (4.66.2)\n",
      "Requirement already satisfied: jinja2 in c:\\users\\nagasai\\anaconda3\\envs\\newenv\\lib\\site-packages (from spacy<3.8.0,>=3.7.2->en-core-web-lg==3.7.1) (3.1.3)\n",
      "Requirement already satisfied: zipp>=0.5 in c:\\users\\nagasai\\anaconda3\\envs\\newenv\\lib\\site-packages (from catalogue<2.1.0,>=2.0.6->spacy<3.8.0,>=3.7.2->en-core-web-lg==3.7.1) (3.11.0)\n",
      "Requirement already satisfied: idna<4,>=2.5 in c:\\users\\nagasai\\anaconda3\\envs\\newenv\\lib\\site-packages (from requests<3.0.0,>=2.13.0->spacy<3.8.0,>=3.7.2->en-core-web-lg==3.7.1) (3.4)\n",
      "Requirement already satisfied: certifi>=2017.4.17 in c:\\users\\nagasai\\anaconda3\\envs\\newenv\\lib\\site-packages (from requests<3.0.0,>=2.13.0->spacy<3.8.0,>=3.7.2->en-core-web-lg==3.7.1) (2022.12.7)\n",
      "Requirement already satisfied: charset-normalizer<3,>=2 in c:\\users\\nagasai\\anaconda3\\envs\\newenv\\lib\\site-packages (from requests<3.0.0,>=2.13.0->spacy<3.8.0,>=3.7.2->en-core-web-lg==3.7.1) (2.0.4)\n",
      "Requirement already satisfied: urllib3<1.27,>=1.21.1 in c:\\users\\nagasai\\anaconda3\\envs\\newenv\\lib\\site-packages (from requests<3.0.0,>=2.13.0->spacy<3.8.0,>=3.7.2->en-core-web-lg==3.7.1) (1.26.14)\n",
      "Requirement already satisfied: blis<0.8.0,>=0.7.8 in c:\\users\\nagasai\\anaconda3\\envs\\newenv\\lib\\site-packages (from thinc<8.3.0,>=8.2.2->spacy<3.8.0,>=3.7.2->en-core-web-lg==3.7.1) (0.7.11)\n",
      "Requirement already satisfied: confection<1.0.0,>=0.0.1 in c:\\users\\nagasai\\anaconda3\\envs\\newenv\\lib\\site-packages (from thinc<8.3.0,>=8.2.2->spacy<3.8.0,>=3.7.2->en-core-web-lg==3.7.1) (0.1.4)\n",
      "Requirement already satisfied: colorama in c:\\users\\nagasai\\anaconda3\\envs\\newenv\\lib\\site-packages (from tqdm<5.0.0,>=4.38.0->spacy<3.8.0,>=3.7.2->en-core-web-lg==3.7.1) (0.4.6)\n",
      "Requirement already satisfied: click<9.0.0,>=7.1.1 in c:\\users\\nagasai\\anaconda3\\envs\\newenv\\lib\\site-packages (from typer<0.10.0,>=0.3.0->spacy<3.8.0,>=3.7.2->en-core-web-lg==3.7.1) (8.0.4)\n",
      "Requirement already satisfied: cloudpathlib<0.17.0,>=0.7.0 in c:\\users\\nagasai\\anaconda3\\envs\\newenv\\lib\\site-packages (from weasel<0.4.0,>=0.1.0->spacy<3.8.0,>=3.7.2->en-core-web-lg==3.7.1) (0.16.0)\n",
      "Requirement already satisfied: MarkupSafe>=2.0 in c:\\users\\nagasai\\anaconda3\\envs\\newenv\\lib\\site-packages (from jinja2->spacy<3.8.0,>=3.7.2->en-core-web-lg==3.7.1) (2.1.1)\n",
      "Requirement already satisfied: importlib-metadata in c:\\users\\nagasai\\anaconda3\\envs\\newenv\\lib\\site-packages (from click<9.0.0,>=7.1.1->typer<0.10.0,>=0.3.0->spacy<3.8.0,>=3.7.2->en-core-web-lg==3.7.1) (4.11.3)\n",
      "Installing collected packages: en-core-web-lg\n",
      "Successfully installed en-core-web-lg-3.7.1\n",
      "\u001b[38;5;2m[+] Download and installation successful\u001b[0m\n",
      "You can now load the package via spacy.load('en_core_web_lg')\n"
     ]
    }
   ],
   "source": [
    "!python -m spacy download en_core_web_lg"
   ]
  },
  {
   "cell_type": "code",
   "execution_count": 5,
   "id": "385427a7",
   "metadata": {},
   "outputs": [],
   "source": [
    "nlp = spacy.load('en_core_web_lg')"
   ]
  },
  {
   "cell_type": "code",
   "execution_count": 8,
   "id": "e5fed5be",
   "metadata": {},
   "outputs": [
    {
     "name": "stdout",
     "output_type": "stream",
     "text": [
      "i   True   False\n",
      "am   True   False\n",
      "driving   True   False\n",
      "a   True   False\n",
      "bike   True   False\n",
      "whereas   True   False\n",
      "he   True   False\n",
      "is   True   False\n",
      "buying   True   False\n",
      "a   True   False\n",
      "car   True   False\n"
     ]
    }
   ],
   "source": [
    "doc = nlp('i am driving a bike whereas he is coming by a car')\n",
    "for word in doc:\n",
    "    print(f'{word.text}   {word.has_vector}   {word.is_oov}')"
   ]
  },
  {
   "cell_type": "code",
   "execution_count": 15,
   "id": "cf720b0a",
   "metadata": {},
   "outputs": [
    {
     "name": "stdout",
     "output_type": "stream",
     "text": [
      "They -->> bike : 0.13503268361091614\n",
      "are -->> bike : 0.025355951860547066\n",
      "travelling -->> bike : 0.2666171193122864\n",
      "by -->> bike : -0.13623346388339996\n",
      "run -->> bike : 0.226849764585495\n",
      "because -->> bike : 0.10698229819536209\n",
      "they -->> bike : 0.11138514429330826\n",
      "febyewrfgby -->> bike : 0.0\n",
      "not -->> bike : 0.05107273906469345\n",
      "have -->> bike : 0.05815848335623741\n",
      "car -->> bike : 0.65735924243927\n",
      "to -->> bike : 0.0779743641614914\n",
      "buy -->> bike : 0.18267014622688293\n",
      "mobiles -->> bike : 0.28247156739234924\n"
     ]
    },
    {
     "name": "stderr",
     "output_type": "stream",
     "text": [
      "C:\\Users\\Nagasai\\anaconda3\\envs\\newenv\\lib\\site-packages\\ipykernel_launcher.py:3: UserWarning: [W008] Evaluating Token.similarity based on empty vectors.\n",
      "  This is separate from the ipykernel package so we can avoid doing imports until\n"
     ]
    }
   ],
   "source": [
    "doc2 = nlp('They are travelling by run because they febyewrfgby not have car to buy mobiles')\n",
    "for word in doc2:\n",
    "    print(f'{word} -->> {doc[4]} : {word.similarity(doc[4])}')"
   ]
  },
  {
   "cell_type": "code",
   "execution_count": 17,
   "id": "e1dd2f3c",
   "metadata": {},
   "outputs": [
    {
     "name": "stdout",
     "output_type": "stream",
     "text": [
      "Collecting gensim\n",
      "  Downloading gensim-4.2.0-cp37-cp37m-win_amd64.whl (24.0 MB)\n",
      "     ---------------------------------------- 24.0/24.0 MB 3.6 MB/s eta 0:00:00\n",
      "Requirement already satisfied: smart-open>=1.8.1 in c:\\users\\nagasai\\anaconda3\\envs\\newenv\\lib\\site-packages (from gensim) (6.4.0)\n",
      "Collecting Cython==0.29.28\n",
      "  Downloading Cython-0.29.28-py2.py3-none-any.whl (983 kB)\n",
      "     -------------------------------------- 983.8/983.8 kB 5.2 MB/s eta 0:00:00\n",
      "Requirement already satisfied: scipy>=0.18.1 in c:\\users\\nagasai\\anaconda3\\envs\\newenv\\lib\\site-packages (from gensim) (1.7.3)\n",
      "Requirement already satisfied: numpy>=1.17.0 in c:\\users\\nagasai\\anaconda3\\envs\\newenv\\lib\\site-packages (from gensim) (1.21.5)\n",
      "Installing collected packages: Cython, gensim\n",
      "Successfully installed Cython-0.29.28 gensim-4.2.0\n"
     ]
    }
   ],
   "source": [
    "!pip install gensim"
   ]
  },
  {
   "cell_type": "code",
   "execution_count": 16,
   "id": "d8d15caa",
   "metadata": {},
   "outputs": [
    {
     "ename": "ModuleNotFoundError",
     "evalue": "No module named 'gensim'",
     "output_type": "error",
     "traceback": [
      "\u001b[1;31m---------------------------------------------------------------------------\u001b[0m",
      "\u001b[1;31mModuleNotFoundError\u001b[0m                       Traceback (most recent call last)",
      "\u001b[1;32m~\\AppData\\Local\\Temp\\ipykernel_17220\\1421960719.py\u001b[0m in \u001b[0;36m<module>\u001b[1;34m\u001b[0m\n\u001b[1;32m----> 1\u001b[1;33m \u001b[1;32mimport\u001b[0m \u001b[0mgensim\u001b[0m\u001b[1;33m.\u001b[0m\u001b[0mdownloader\u001b[0m \u001b[1;32mas\u001b[0m \u001b[0mapi\u001b[0m\u001b[1;33m\u001b[0m\u001b[1;33m\u001b[0m\u001b[0m\n\u001b[0m\u001b[0;32m      2\u001b[0m \u001b[1;33m\u001b[0m\u001b[0m\n\u001b[0;32m      3\u001b[0m \u001b[0mapi\u001b[0m\u001b[1;33m.\u001b[0m\u001b[0mload\u001b[0m\u001b[1;33m(\u001b[0m\u001b[1;34m'word2vec-google-news-300'\u001b[0m\u001b[1;33m)\u001b[0m\u001b[1;33m\u001b[0m\u001b[1;33m\u001b[0m\u001b[0m\n",
      "\u001b[1;31mModuleNotFoundError\u001b[0m: No module named 'gensim'"
     ]
    }
   ],
   "source": [
    "import gensim.downloader as api\n",
    "# loading a large model trained on google news(about 100 billion words)\n",
    "api.load('word2vec-google-news-300')"
   ]
  },
  {
   "cell_type": "code",
   "execution_count": null,
   "id": "08373725",
   "metadata": {},
   "outputs": [],
   "source": []
  }
 ],
 "metadata": {
  "kernelspec": {
   "display_name": "Python 3 (ipykernel)",
   "language": "python",
   "name": "python3"
  },
  "language_info": {
   "codemirror_mode": {
    "name": "ipython",
    "version": 3
   },
   "file_extension": ".py",
   "mimetype": "text/x-python",
   "name": "python",
   "nbconvert_exporter": "python",
   "pygments_lexer": "ipython3",
   "version": "3.7.16"
  }
 },
 "nbformat": 4,
 "nbformat_minor": 5
}
