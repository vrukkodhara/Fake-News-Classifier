{
 "cells": [
  {
   "cell_type": "code",
   "execution_count": 1,
   "id": "d8d15caa",
   "metadata": {},
   "outputs": [],
   "source": [
    "import gensim.downloader as api\n",
    "# loading a large model trained on google news(about 100 billion words)\n",
    "wv = api.load('word2vec-google-news-300')"
   ]
  },
  {
   "cell_type": "code",
   "execution_count": 2,
   "id": "08373725",
   "metadata": {},
   "outputs": [
    {
     "data": {
      "text/plain": [
       "[('great', 0.7291509509086609),\n",
       " ('bad', 0.7190050482749939),\n",
       " ('terrific', 0.688911497592926),\n",
       " ('decent', 0.6837348937988281),\n",
       " ('nice', 0.6836092472076416),\n",
       " ('excellent', 0.6442928910255432),\n",
       " ('fantastic', 0.6407778263092041),\n",
       " ('better', 0.6120728850364685),\n",
       " ('solid', 0.5806034803390503),\n",
       " ('lousy', 0.576420247554779)]"
      ]
     },
     "execution_count": 2,
     "metadata": {},
     "output_type": "execute_result"
    }
   ],
   "source": [
    "wv.most_similar('good')"
   ]
  },
  {
   "cell_type": "code",
   "execution_count": 3,
   "id": "60921610",
   "metadata": {},
   "outputs": [
    {
     "data": {
      "text/plain": [
       "0.28772825"
      ]
     },
     "execution_count": 3,
     "metadata": {},
     "output_type": "execute_result"
    }
   ],
   "source": [
    "wv.similarity('profit','gain')"
   ]
  },
  {
   "cell_type": "code",
   "execution_count": 4,
   "id": "a092aced",
   "metadata": {},
   "outputs": [
    {
     "name": "stdout",
     "output_type": "stream",
     "text": [
      "[PhysicalDevice(name='/physical_device:CPU:0', device_type='CPU'), PhysicalDevice(name='/physical_device:GPU:0', device_type='GPU')]\n"
     ]
    }
   ],
   "source": [
    "import tensorflow as tf\n",
    "print(tf.config.list_physical_devices())\n"
   ]
  },
  {
   "cell_type": "code",
   "execution_count": 5,
   "id": "6337b36d",
   "metadata": {},
   "outputs": [],
   "source": [
    "import numpy as np\n",
    "import pandas as pd"
   ]
  },
  {
   "cell_type": "code",
   "execution_count": 6,
   "id": "c9cbd9ff",
   "metadata": {},
   "outputs": [
    {
     "data": {
      "text/html": [
       "<div>\n",
       "<style scoped>\n",
       "    .dataframe tbody tr th:only-of-type {\n",
       "        vertical-align: middle;\n",
       "    }\n",
       "\n",
       "    .dataframe tbody tr th {\n",
       "        vertical-align: top;\n",
       "    }\n",
       "\n",
       "    .dataframe thead th {\n",
       "        text-align: right;\n",
       "    }\n",
       "</style>\n",
       "<table border=\"1\" class=\"dataframe\">\n",
       "  <thead>\n",
       "    <tr style=\"text-align: right;\">\n",
       "      <th></th>\n",
       "      <th>id</th>\n",
       "      <th>title</th>\n",
       "      <th>author</th>\n",
       "      <th>text</th>\n",
       "      <th>label</th>\n",
       "    </tr>\n",
       "  </thead>\n",
       "  <tbody>\n",
       "    <tr>\n",
       "      <th>0</th>\n",
       "      <td>0</td>\n",
       "      <td>House Dem Aide: We Didn’t Even See Comey’s Let...</td>\n",
       "      <td>Darrell Lucus</td>\n",
       "      <td>House Dem Aide: We Didn’t Even See Comey’s Let...</td>\n",
       "      <td>1</td>\n",
       "    </tr>\n",
       "    <tr>\n",
       "      <th>1</th>\n",
       "      <td>1</td>\n",
       "      <td>FLYNN: Hillary Clinton, Big Woman on Campus - ...</td>\n",
       "      <td>Daniel J. Flynn</td>\n",
       "      <td>Ever get the feeling your life circles the rou...</td>\n",
       "      <td>0</td>\n",
       "    </tr>\n",
       "    <tr>\n",
       "      <th>2</th>\n",
       "      <td>2</td>\n",
       "      <td>Why the Truth Might Get You Fired</td>\n",
       "      <td>Consortiumnews.com</td>\n",
       "      <td>Why the Truth Might Get You Fired October 29, ...</td>\n",
       "      <td>1</td>\n",
       "    </tr>\n",
       "    <tr>\n",
       "      <th>3</th>\n",
       "      <td>3</td>\n",
       "      <td>15 Civilians Killed In Single US Airstrike Hav...</td>\n",
       "      <td>Jessica Purkiss</td>\n",
       "      <td>Videos 15 Civilians Killed In Single US Airstr...</td>\n",
       "      <td>1</td>\n",
       "    </tr>\n",
       "    <tr>\n",
       "      <th>4</th>\n",
       "      <td>4</td>\n",
       "      <td>Iranian woman jailed for fictional unpublished...</td>\n",
       "      <td>Howard Portnoy</td>\n",
       "      <td>Print \\nAn Iranian woman has been sentenced to...</td>\n",
       "      <td>1</td>\n",
       "    </tr>\n",
       "    <tr>\n",
       "      <th>...</th>\n",
       "      <td>...</td>\n",
       "      <td>...</td>\n",
       "      <td>...</td>\n",
       "      <td>...</td>\n",
       "      <td>...</td>\n",
       "    </tr>\n",
       "    <tr>\n",
       "      <th>20795</th>\n",
       "      <td>20795</td>\n",
       "      <td>Rapper T.I.: Trump a ’Poster Child For White S...</td>\n",
       "      <td>Jerome Hudson</td>\n",
       "      <td>Rapper T. I. unloaded on black celebrities who...</td>\n",
       "      <td>0</td>\n",
       "    </tr>\n",
       "    <tr>\n",
       "      <th>20796</th>\n",
       "      <td>20796</td>\n",
       "      <td>N.F.L. Playoffs: Schedule, Matchups and Odds -...</td>\n",
       "      <td>Benjamin Hoffman</td>\n",
       "      <td>When the Green Bay Packers lost to the Washing...</td>\n",
       "      <td>0</td>\n",
       "    </tr>\n",
       "    <tr>\n",
       "      <th>20797</th>\n",
       "      <td>20797</td>\n",
       "      <td>Macy’s Is Said to Receive Takeover Approach by...</td>\n",
       "      <td>Michael J. de la Merced and Rachel Abrams</td>\n",
       "      <td>The Macy’s of today grew from the union of sev...</td>\n",
       "      <td>0</td>\n",
       "    </tr>\n",
       "    <tr>\n",
       "      <th>20798</th>\n",
       "      <td>20798</td>\n",
       "      <td>NATO, Russia To Hold Parallel Exercises In Bal...</td>\n",
       "      <td>Alex Ansary</td>\n",
       "      <td>NATO, Russia To Hold Parallel Exercises In Bal...</td>\n",
       "      <td>1</td>\n",
       "    </tr>\n",
       "    <tr>\n",
       "      <th>20799</th>\n",
       "      <td>20799</td>\n",
       "      <td>What Keeps the F-35 Alive</td>\n",
       "      <td>David Swanson</td>\n",
       "      <td>David Swanson is an author, activist, journa...</td>\n",
       "      <td>1</td>\n",
       "    </tr>\n",
       "  </tbody>\n",
       "</table>\n",
       "<p>20800 rows × 5 columns</p>\n",
       "</div>"
      ],
      "text/plain": [
       "          id                                              title  \\\n",
       "0          0  House Dem Aide: We Didn’t Even See Comey’s Let...   \n",
       "1          1  FLYNN: Hillary Clinton, Big Woman on Campus - ...   \n",
       "2          2                  Why the Truth Might Get You Fired   \n",
       "3          3  15 Civilians Killed In Single US Airstrike Hav...   \n",
       "4          4  Iranian woman jailed for fictional unpublished...   \n",
       "...      ...                                                ...   \n",
       "20795  20795  Rapper T.I.: Trump a ’Poster Child For White S...   \n",
       "20796  20796  N.F.L. Playoffs: Schedule, Matchups and Odds -...   \n",
       "20797  20797  Macy’s Is Said to Receive Takeover Approach by...   \n",
       "20798  20798  NATO, Russia To Hold Parallel Exercises In Bal...   \n",
       "20799  20799                          What Keeps the F-35 Alive   \n",
       "\n",
       "                                          author  \\\n",
       "0                                  Darrell Lucus   \n",
       "1                                Daniel J. Flynn   \n",
       "2                             Consortiumnews.com   \n",
       "3                                Jessica Purkiss   \n",
       "4                                 Howard Portnoy   \n",
       "...                                          ...   \n",
       "20795                              Jerome Hudson   \n",
       "20796                           Benjamin Hoffman   \n",
       "20797  Michael J. de la Merced and Rachel Abrams   \n",
       "20798                                Alex Ansary   \n",
       "20799                              David Swanson   \n",
       "\n",
       "                                                    text  label  \n",
       "0      House Dem Aide: We Didn’t Even See Comey’s Let...      1  \n",
       "1      Ever get the feeling your life circles the rou...      0  \n",
       "2      Why the Truth Might Get You Fired October 29, ...      1  \n",
       "3      Videos 15 Civilians Killed In Single US Airstr...      1  \n",
       "4      Print \\nAn Iranian woman has been sentenced to...      1  \n",
       "...                                                  ...    ...  \n",
       "20795  Rapper T. I. unloaded on black celebrities who...      0  \n",
       "20796  When the Green Bay Packers lost to the Washing...      0  \n",
       "20797  The Macy’s of today grew from the union of sev...      0  \n",
       "20798  NATO, Russia To Hold Parallel Exercises In Bal...      1  \n",
       "20799    David Swanson is an author, activist, journa...      1  \n",
       "\n",
       "[20800 rows x 5 columns]"
      ]
     },
     "execution_count": 6,
     "metadata": {},
     "output_type": "execute_result"
    }
   ],
   "source": [
    "df= pd.read_csv(\"D:\\\\Big Downloads\\\\archive (2)\\\\fake_train.csv\")\n",
    "df"
   ]
  },
  {
   "cell_type": "code",
   "execution_count": 7,
   "id": "8f0b02b1",
   "metadata": {},
   "outputs": [
    {
     "data": {
      "text/html": [
       "<div>\n",
       "<style scoped>\n",
       "    .dataframe tbody tr th:only-of-type {\n",
       "        vertical-align: middle;\n",
       "    }\n",
       "\n",
       "    .dataframe tbody tr th {\n",
       "        vertical-align: top;\n",
       "    }\n",
       "\n",
       "    .dataframe thead th {\n",
       "        text-align: right;\n",
       "    }\n",
       "</style>\n",
       "<table border=\"1\" class=\"dataframe\">\n",
       "  <thead>\n",
       "    <tr style=\"text-align: right;\">\n",
       "      <th></th>\n",
       "      <th>title</th>\n",
       "      <th>author</th>\n",
       "      <th>text</th>\n",
       "      <th>label</th>\n",
       "    </tr>\n",
       "  </thead>\n",
       "  <tbody>\n",
       "    <tr>\n",
       "      <th>0</th>\n",
       "      <td>House Dem Aide: We Didn’t Even See Comey’s Let...</td>\n",
       "      <td>Darrell Lucus</td>\n",
       "      <td>House Dem Aide: We Didn’t Even See Comey’s Let...</td>\n",
       "      <td>1</td>\n",
       "    </tr>\n",
       "    <tr>\n",
       "      <th>1</th>\n",
       "      <td>FLYNN: Hillary Clinton, Big Woman on Campus - ...</td>\n",
       "      <td>Daniel J. Flynn</td>\n",
       "      <td>Ever get the feeling your life circles the rou...</td>\n",
       "      <td>0</td>\n",
       "    </tr>\n",
       "    <tr>\n",
       "      <th>2</th>\n",
       "      <td>Why the Truth Might Get You Fired</td>\n",
       "      <td>Consortiumnews.com</td>\n",
       "      <td>Why the Truth Might Get You Fired October 29, ...</td>\n",
       "      <td>1</td>\n",
       "    </tr>\n",
       "    <tr>\n",
       "      <th>3</th>\n",
       "      <td>15 Civilians Killed In Single US Airstrike Hav...</td>\n",
       "      <td>Jessica Purkiss</td>\n",
       "      <td>Videos 15 Civilians Killed In Single US Airstr...</td>\n",
       "      <td>1</td>\n",
       "    </tr>\n",
       "    <tr>\n",
       "      <th>4</th>\n",
       "      <td>Iranian woman jailed for fictional unpublished...</td>\n",
       "      <td>Howard Portnoy</td>\n",
       "      <td>Print \\nAn Iranian woman has been sentenced to...</td>\n",
       "      <td>1</td>\n",
       "    </tr>\n",
       "    <tr>\n",
       "      <th>...</th>\n",
       "      <td>...</td>\n",
       "      <td>...</td>\n",
       "      <td>...</td>\n",
       "      <td>...</td>\n",
       "    </tr>\n",
       "    <tr>\n",
       "      <th>20795</th>\n",
       "      <td>Rapper T.I.: Trump a ’Poster Child For White S...</td>\n",
       "      <td>Jerome Hudson</td>\n",
       "      <td>Rapper T. I. unloaded on black celebrities who...</td>\n",
       "      <td>0</td>\n",
       "    </tr>\n",
       "    <tr>\n",
       "      <th>20796</th>\n",
       "      <td>N.F.L. Playoffs: Schedule, Matchups and Odds -...</td>\n",
       "      <td>Benjamin Hoffman</td>\n",
       "      <td>When the Green Bay Packers lost to the Washing...</td>\n",
       "      <td>0</td>\n",
       "    </tr>\n",
       "    <tr>\n",
       "      <th>20797</th>\n",
       "      <td>Macy’s Is Said to Receive Takeover Approach by...</td>\n",
       "      <td>Michael J. de la Merced and Rachel Abrams</td>\n",
       "      <td>The Macy’s of today grew from the union of sev...</td>\n",
       "      <td>0</td>\n",
       "    </tr>\n",
       "    <tr>\n",
       "      <th>20798</th>\n",
       "      <td>NATO, Russia To Hold Parallel Exercises In Bal...</td>\n",
       "      <td>Alex Ansary</td>\n",
       "      <td>NATO, Russia To Hold Parallel Exercises In Bal...</td>\n",
       "      <td>1</td>\n",
       "    </tr>\n",
       "    <tr>\n",
       "      <th>20799</th>\n",
       "      <td>What Keeps the F-35 Alive</td>\n",
       "      <td>David Swanson</td>\n",
       "      <td>David Swanson is an author, activist, journa...</td>\n",
       "      <td>1</td>\n",
       "    </tr>\n",
       "  </tbody>\n",
       "</table>\n",
       "<p>20800 rows × 4 columns</p>\n",
       "</div>"
      ],
      "text/plain": [
       "                                                   title  \\\n",
       "0      House Dem Aide: We Didn’t Even See Comey’s Let...   \n",
       "1      FLYNN: Hillary Clinton, Big Woman on Campus - ...   \n",
       "2                      Why the Truth Might Get You Fired   \n",
       "3      15 Civilians Killed In Single US Airstrike Hav...   \n",
       "4      Iranian woman jailed for fictional unpublished...   \n",
       "...                                                  ...   \n",
       "20795  Rapper T.I.: Trump a ’Poster Child For White S...   \n",
       "20796  N.F.L. Playoffs: Schedule, Matchups and Odds -...   \n",
       "20797  Macy’s Is Said to Receive Takeover Approach by...   \n",
       "20798  NATO, Russia To Hold Parallel Exercises In Bal...   \n",
       "20799                          What Keeps the F-35 Alive   \n",
       "\n",
       "                                          author  \\\n",
       "0                                  Darrell Lucus   \n",
       "1                                Daniel J. Flynn   \n",
       "2                             Consortiumnews.com   \n",
       "3                                Jessica Purkiss   \n",
       "4                                 Howard Portnoy   \n",
       "...                                          ...   \n",
       "20795                              Jerome Hudson   \n",
       "20796                           Benjamin Hoffman   \n",
       "20797  Michael J. de la Merced and Rachel Abrams   \n",
       "20798                                Alex Ansary   \n",
       "20799                              David Swanson   \n",
       "\n",
       "                                                    text  label  \n",
       "0      House Dem Aide: We Didn’t Even See Comey’s Let...      1  \n",
       "1      Ever get the feeling your life circles the rou...      0  \n",
       "2      Why the Truth Might Get You Fired October 29, ...      1  \n",
       "3      Videos 15 Civilians Killed In Single US Airstr...      1  \n",
       "4      Print \\nAn Iranian woman has been sentenced to...      1  \n",
       "...                                                  ...    ...  \n",
       "20795  Rapper T. I. unloaded on black celebrities who...      0  \n",
       "20796  When the Green Bay Packers lost to the Washing...      0  \n",
       "20797  The Macy’s of today grew from the union of sev...      0  \n",
       "20798  NATO, Russia To Hold Parallel Exercises In Bal...      1  \n",
       "20799    David Swanson is an author, activist, journa...      1  \n",
       "\n",
       "[20800 rows x 4 columns]"
      ]
     },
     "execution_count": 7,
     "metadata": {},
     "output_type": "execute_result"
    }
   ],
   "source": [
    "df.drop(columns = ['id'],inplace=True)\n",
    "df"
   ]
  },
  {
   "cell_type": "code",
   "execution_count": 16,
   "id": "754b4578",
   "metadata": {},
   "outputs": [
    {
     "data": {
      "text/plain": [
       "4201    1957\n",
       "2944     243\n",
       "3929     193\n",
       "1762     166\n",
       "724      141\n",
       "        ... \n",
       "1754       1\n",
       "3796       1\n",
       "1078       1\n",
       "2778       1\n",
       "2617       1\n",
       "Name: author, Length: 4202, dtype: int64"
      ]
     },
     "execution_count": 16,
     "metadata": {},
     "output_type": "execute_result"
    }
   ],
   "source": [
    "df.author.value_counts()"
   ]
  },
  {
   "cell_type": "code",
   "execution_count": 18,
   "id": "4c657163",
   "metadata": {},
   "outputs": [
    {
     "data": {
      "text/plain": [
       "1    10413\n",
       "0    10387\n",
       "Name: label, dtype: int64"
      ]
     },
     "execution_count": 18,
     "metadata": {},
     "output_type": "execute_result"
    }
   ],
   "source": [
    "#checking the robustness of data\n",
    "df.label.value_counts()"
   ]
  },
  {
   "cell_type": "code",
   "execution_count": 8,
   "id": "cfd8b4dc",
   "metadata": {},
   "outputs": [],
   "source": [
    "from sklearn.preprocessing import LabelEncoder\n",
    "le = LabelEncoder()\n",
    "df.author = le.fit_transform(df.author)"
   ]
  },
  {
   "cell_type": "code",
   "execution_count": 9,
   "id": "067b9945",
   "metadata": {},
   "outputs": [],
   "source": [
    "import spacy\n",
    "\n",
    "#loading en_web_sm\n",
    "nlp = spacy.load('en_core_web_sm')"
   ]
  },
  {
   "cell_type": "code",
   "execution_count": 10,
   "id": "c904a920",
   "metadata": {},
   "outputs": [],
   "source": [
    "import re"
   ]
  },
  {
   "cell_type": "code",
   "execution_count": 11,
   "id": "199242b0",
   "metadata": {},
   "outputs": [],
   "source": [
    "def preprocess_text(text):\n",
    "    # Remove non-alphabetic characters\n",
    "    #text = re.sub(r'[^a-zA-Z]', ' ', text)\n",
    "    doc = nlp(text)\n",
    "    tokens = []\n",
    "    # Generating tokens\n",
    "    for word in doc:\n",
    "        if not word.is_stop and not word.is_punct:\n",
    "            tokens.append(word.lemma_)\n",
    "    if tokens:\n",
    "        return wv.get_mean_vector(tokens)#sentence embedding\n",
    "    else:\n",
    "        return None"
   ]
  },
  {
   "cell_type": "code",
   "execution_count": 12,
   "id": "e6bf6d35",
   "metadata": {},
   "outputs": [],
   "source": [
    "df['title'] = df['title'].astype(str)\n",
    "df['title'] = df['title'].apply(preprocess_text)"
   ]
  },
  {
   "cell_type": "code",
   "execution_count": 94,
   "id": "309ff31a",
   "metadata": {},
   "outputs": [
    {
     "data": {
      "text/plain": [
       "title     4\n",
       "author    0\n",
       "text      1\n",
       "label     0\n",
       "dtype: int64"
      ]
     },
     "execution_count": 94,
     "metadata": {},
     "output_type": "execute_result"
    }
   ],
   "source": [
    "df.isnull().sum()"
   ]
  },
  {
   "cell_type": "code",
   "execution_count": 95,
   "id": "43e4c740",
   "metadata": {},
   "outputs": [],
   "source": [
    "df.dropna(inplace=True)"
   ]
  },
  {
   "cell_type": "code",
   "execution_count": 14,
   "id": "947ccb87",
   "metadata": {
    "scrolled": true
   },
   "outputs": [],
   "source": [
    "df['text'] = df['text'].astype(str)\n",
    "df['text'] = df['text'].apply(preprocess_text)"
   ]
  },
  {
   "cell_type": "code",
   "execution_count": 54,
   "id": "debaa066",
   "metadata": {},
   "outputs": [
    {
     "data": {
      "text/html": [
       "<div>\n",
       "<style scoped>\n",
       "    .dataframe tbody tr th:only-of-type {\n",
       "        vertical-align: middle;\n",
       "    }\n",
       "\n",
       "    .dataframe tbody tr th {\n",
       "        vertical-align: top;\n",
       "    }\n",
       "\n",
       "    .dataframe thead th {\n",
       "        text-align: right;\n",
       "    }\n",
       "</style>\n",
       "<table border=\"1\" class=\"dataframe\">\n",
       "  <thead>\n",
       "    <tr style=\"text-align: right;\">\n",
       "      <th></th>\n",
       "      <th>title</th>\n",
       "      <th>author</th>\n",
       "      <th>text</th>\n",
       "      <th>label</th>\n",
       "    </tr>\n",
       "  </thead>\n",
       "  <tbody>\n",
       "    <tr>\n",
       "      <th>0</th>\n",
       "      <td>[0.0012090177, 0.020686446, -0.05235688, 0.024...</td>\n",
       "      <td>940</td>\n",
       "      <td>[0.011799483, 0.0051019294, -0.0034669398, 0.0...</td>\n",
       "      <td>1</td>\n",
       "    </tr>\n",
       "    <tr>\n",
       "      <th>1</th>\n",
       "      <td>[0.015651403, 0.0159085, -0.003191591, 0.03807...</td>\n",
       "      <td>908</td>\n",
       "      <td>[0.019954866, 0.013497949, 0.0011899865, 0.033...</td>\n",
       "      <td>0</td>\n",
       "    </tr>\n",
       "    <tr>\n",
       "      <th>2</th>\n",
       "      <td>[0.11566126, 0.005249493, 0.061008282, -0.0377...</td>\n",
       "      <td>826</td>\n",
       "      <td>[0.01097046, 0.010704931, 0.009920182, 0.02916...</td>\n",
       "      <td>1</td>\n",
       "    </tr>\n",
       "    <tr>\n",
       "      <th>3</th>\n",
       "      <td>[0.040558804, -0.0038705126, -0.01513851, 0.02...</td>\n",
       "      <td>1776</td>\n",
       "      <td>[0.011734712, 0.003914555, 0.011538548, 0.0272...</td>\n",
       "      <td>1</td>\n",
       "    </tr>\n",
       "    <tr>\n",
       "      <th>4</th>\n",
       "      <td>[0.016219957, -0.0026730283, 0.014577476, 0.01...</td>\n",
       "      <td>1498</td>\n",
       "      <td>[0.010146698, -0.0003742455, 0.0072778, 0.0183...</td>\n",
       "      <td>1</td>\n",
       "    </tr>\n",
       "  </tbody>\n",
       "</table>\n",
       "</div>"
      ],
      "text/plain": [
       "                                               title  author  \\\n",
       "0  [0.0012090177, 0.020686446, -0.05235688, 0.024...     940   \n",
       "1  [0.015651403, 0.0159085, -0.003191591, 0.03807...     908   \n",
       "2  [0.11566126, 0.005249493, 0.061008282, -0.0377...     826   \n",
       "3  [0.040558804, -0.0038705126, -0.01513851, 0.02...    1776   \n",
       "4  [0.016219957, -0.0026730283, 0.014577476, 0.01...    1498   \n",
       "\n",
       "                                                text  label  \n",
       "0  [0.011799483, 0.0051019294, -0.0034669398, 0.0...      1  \n",
       "1  [0.019954866, 0.013497949, 0.0011899865, 0.033...      0  \n",
       "2  [0.01097046, 0.010704931, 0.009920182, 0.02916...      1  \n",
       "3  [0.011734712, 0.003914555, 0.011538548, 0.0272...      1  \n",
       "4  [0.010146698, -0.0003742455, 0.0072778, 0.0183...      1  "
      ]
     },
     "execution_count": 54,
     "metadata": {},
     "output_type": "execute_result"
    }
   ],
   "source": [
    "df.head()"
   ]
  },
  {
   "cell_type": "code",
   "execution_count": 164,
   "id": "bb929c04",
   "metadata": {},
   "outputs": [],
   "source": [
    "X = df.iloc[:,:-1].values\n",
    "y = df.iloc[:,-1].values"
   ]
  },
  {
   "cell_type": "code",
   "execution_count": 165,
   "id": "940e737f",
   "metadata": {},
   "outputs": [],
   "source": [
    "from sklearn.model_selection import train_test_split\n",
    "X_train, X_test, y_train, y_test = train_test_split(X,y,test_size = 0.2,stratify=df.label,random_state=202)"
   ]
  },
  {
   "cell_type": "code",
   "execution_count": 166,
   "id": "72b02150",
   "metadata": {},
   "outputs": [
    {
     "name": "stdout",
     "output_type": "stream",
     "text": [
      "X_train shape : (16636, 3)\n",
      "X_test shape : (4159, 3)\n"
     ]
    }
   ],
   "source": [
    "print(f'X_train shape : {X_train.shape}')\n",
    "print(f'X_test shape : {X_test.shape}')"
   ]
  },
  {
   "cell_type": "code",
   "execution_count": 138,
   "id": "4bafdcca",
   "metadata": {},
   "outputs": [],
   "source": [
    "X_train[:, 1] = X_train[:, 1].astype(np.float32)"
   ]
  },
  {
   "cell_type": "code",
   "execution_count": 167,
   "id": "81d1c18d",
   "metadata": {},
   "outputs": [
    {
     "data": {
      "text/plain": [
       "array([ 0.02745995,  0.0327711 ,  0.01376372, -0.00589071,  0.02609749,\n",
       "       -0.03557738, -0.00336904,  0.02222956,  0.01649418, -0.00726856,\n",
       "       -0.02164787,  0.00648522, -0.01079716,  0.05106026,  0.02469273,\n",
       "       -0.02627471, -0.00163613,  0.01316479,  0.00486477,  0.00520782,\n",
       "        0.03151602,  0.0269542 ,  0.02054434,  0.00569404,  0.00151125,\n",
       "        0.01456473, -0.01331729,  0.01652275,  0.0109623 , -0.01577428,\n",
       "       -0.00680338, -0.03420209, -0.06552209, -0.01808978,  0.03086368,\n",
       "       -0.01715124,  0.02685389,  0.02969385, -0.00192297,  0.03492202,\n",
       "        0.00163643, -0.05136018, -0.00653377,  0.00517799,  0.00890928,\n",
       "       -0.01572097, -0.04112267,  0.01293724, -0.03349043,  0.00785961,\n",
       "        0.01917132,  0.02766142, -0.0231397 , -0.00581027, -0.00892561,\n",
       "       -0.00065364, -0.06366231, -0.00181559, -0.00272037, -0.00567269,\n",
       "        0.01256897,  0.01781654, -0.00769488, -0.03596457, -0.00922774,\n",
       "       -0.01735059, -0.0234843 ,  0.03311342,  0.03001654,  0.02657992,\n",
       "       -0.00224016, -0.00674009, -0.00275562,  0.00978627, -0.04538798,\n",
       "       -0.02079418,  0.00876722,  0.00310282,  0.00898252,  0.02834613,\n",
       "       -0.01606144,  0.00754086,  0.0139491 , -0.01013967,  0.00776544,\n",
       "       -0.05073263, -0.04513578,  0.00818249,  0.03539638, -0.02773731,\n",
       "       -0.00884321,  0.00501657,  0.01222508, -0.03128791, -0.00068473,\n",
       "        0.00660734,  0.07884078,  0.03309942,  0.01378658, -0.02115696,\n",
       "       -0.01362211, -0.00581351,  0.02734471, -0.00970748,  0.02217785,\n",
       "       -0.01328191, -0.00539149, -0.02764556, -0.02550024,  0.02643904,\n",
       "       -0.02135135,  0.02155738,  0.0045429 , -0.04744486,  0.02280886,\n",
       "       -0.04002653,  0.01712237, -0.00050141,  0.03341518,  0.04575479,\n",
       "       -0.01815797, -0.00067679,  0.00798642, -0.02898883, -0.0246479 ,\n",
       "       -0.00364334, -0.00699854,  0.00894075, -0.02815166,  0.00609841,\n",
       "       -0.03710245, -0.01673306, -0.04263848, -0.0141218 , -0.01242432,\n",
       "        0.00328402, -0.01165316,  0.02090973,  0.01100995,  0.03110789,\n",
       "        0.01518339,  0.00667168,  0.00220366, -0.02516386,  0.03019342,\n",
       "        0.02285798,  0.02699854, -0.01494402, -0.01541192,  0.00350575,\n",
       "        0.05983983, -0.02197738,  0.02800385, -0.01122696,  0.04508286,\n",
       "       -0.0368288 ,  0.01397544,  0.02523678,  0.0046742 , -0.05935194,\n",
       "       -0.02819108,  0.00135892,  0.06936485, -0.04485494, -0.01042838,\n",
       "        0.0157234 ,  0.01159823,  0.00272723,  0.01391543,  0.04391519,\n",
       "       -0.0204383 ,  0.00031034, -0.01137462, -0.03688111, -0.01405931,\n",
       "        0.01899825, -0.02353885, -0.01588096,  0.01581137, -0.02982297,\n",
       "       -0.06253631, -0.02897331,  0.00496081, -0.02058293, -0.01817365,\n",
       "        0.00294475,  0.04282903,  0.00173212,  0.02575592,  0.01658402,\n",
       "       -0.00990646,  0.04706342,  0.00721141,  0.01479282, -0.04752738,\n",
       "        0.01582861,  0.04866038, -0.0195274 ,  0.0128415 , -0.00750776,\n",
       "        0.00386273,  0.01614532,  0.0035628 ,  0.04122751,  0.04041728,\n",
       "       -0.00279949,  0.01661571,  0.02336003, -0.02103224, -0.02111054,\n",
       "       -0.03541072, -0.0245857 ,  0.00704488,  0.00467866, -0.04126794,\n",
       "        0.02852356,  0.00155569,  0.00636578,  0.0481716 , -0.04169489,\n",
       "        0.01148038,  0.00828   , -0.00582056, -0.0101623 , -0.00355871,\n",
       "       -0.0344075 ,  0.00332101,  0.0170653 ,  0.00103037, -0.01892496,\n",
       "        0.00698398,  0.03828156, -0.01534833,  0.00579584,  0.00227574,\n",
       "       -0.04098751,  0.02527412,  0.01120646,  0.01087045, -0.0171277 ,\n",
       "        0.03069377, -0.01124839,  0.01186483, -0.00188816, -0.00834496,\n",
       "        0.00766752, -0.03994355,  0.04758149, -0.00625039, -0.02602067,\n",
       "        0.00710842,  0.04315661, -0.01444268, -0.00650725,  0.04947975,\n",
       "       -0.00632383,  0.00035675, -0.03020436,  0.00973749, -0.01277885,\n",
       "        0.01482798,  0.02752262,  0.02229561,  0.00648161,  0.03022756,\n",
       "        0.03828755, -0.02819735, -0.00861758, -0.01206541, -0.01556954,\n",
       "       -0.00334434,  0.02220956,  0.0014165 ,  0.02476075,  0.03229244,\n",
       "        0.00017675,  0.00802842,  0.00474053, -0.04526905,  0.00259808,\n",
       "       -0.04933295,  0.02516373,  0.00226509,  0.04934463,  0.01158873,\n",
       "        0.0054592 , -0.03628702,  0.01351013,  0.0288385 ,  0.0037481 ,\n",
       "       -0.0072954 , -0.00462301, -0.06234152,  0.0486683 , -0.00228862,\n",
       "       -0.02099064, -0.02138413, -0.03263269,  0.02839428,  0.04468092],\n",
       "      dtype=float32)"
      ]
     },
     "execution_count": 167,
     "metadata": {},
     "output_type": "execute_result"
    }
   ],
   "source": [
    "X_train[:,0][1]"
   ]
  },
  {
   "cell_type": "code",
   "execution_count": 168,
   "id": "29126ad5",
   "metadata": {},
   "outputs": [],
   "source": [
    "for i in range(len(X_train[:,0])):\n",
    "    req = 300-(len(X_train[:,0][i]))\n",
    "    X_train[:,0][i] = np.pad(0,req,mode='constant')\n",
    "for i in range(len(X_test[:,0])):\n",
    "    req = 300-(len(X_test[:,0][i]))\n",
    "    X_test[:,0][i] = np.pad(0,req,mode='constant')\n",
    "    \n",
    "for i in range(len(X_train[:,2])):\n",
    "    req = 300-(len(X_train[:,2][i]))\n",
    "    X_train[:,2][i] = np.pad(0,req,mode='constant')    \n",
    "for i in range(len(X_test[:,2])):\n",
    "    req = 300-(len(X_test[:,2][i]))\n",
    "    X_test[:,2][i] = np.pad(0,req,mode='constant')"
   ]
  },
  {
   "cell_type": "code",
   "execution_count": 169,
   "id": "7627230e",
   "metadata": {},
   "outputs": [],
   "source": [
    "# Assuming X_train and X_test are NumPy arrays\n",
    "# Stack the column values into a 2D array\n",
    "stacked_column_train = np.stack(X_train[:, 0])\n",
    "stacked_column_test = np.stack(X_test[:, 0])\n",
    "\n",
    "# Assign the stacked column values to the respective columns\n",
    "X_train[:, 0] = stacked_column_train\n",
    "X_test[:, 0] = stacked_column_test\n",
    "\n",
    "# Assuming X_train and X_test are NumPy arrays\n",
    "# Stack the column values into a 2D array\n",
    "stacked_column_train = np.stack(X_train[:, 2])\n",
    "stacked_column_test = np.stack(X_test[:, 2])\n",
    "\n",
    "# Assign the stacked column values to the respective columns\n",
    "X_train[:, 2] = stacked_column_train\n",
    "X_test[:, 2] = stacked_column_test"
   ]
  },
  {
   "cell_type": "code",
   "execution_count": 179,
   "id": "0128ebae",
   "metadata": {},
   "outputs": [
    {
     "name": "stdout",
     "output_type": "stream",
     "text": [
      "Gradient Boosting Classifier:\n",
      "              precision    recall  f1-score   support\n",
      "\n",
      "           0       0.75      0.92      0.83      2077\n",
      "           1       0.90      0.70      0.79      2082\n",
      "\n",
      "    accuracy                           0.81      4159\n",
      "   macro avg       0.82      0.81      0.81      4159\n",
      "weighted avg       0.83      0.81      0.81      4159\n",
      "\n",
      "\n",
      "Random Forest Classifier:\n",
      "              precision    recall  f1-score   support\n",
      "\n",
      "           0       0.97      0.97      0.97      2077\n",
      "           1       0.97      0.97      0.97      2082\n",
      "\n",
      "    accuracy                           0.97      4159\n",
      "   macro avg       0.97      0.97      0.97      4159\n",
      "weighted avg       0.97      0.97      0.97      4159\n",
      "\n"
     ]
    }
   ],
   "source": [
    "from sklearn.ensemble import GradientBoostingClassifier, RandomForestClassifier\n",
    "from sklearn.metrics import classification_report\n",
    "\n",
    "# Gradient Boosting Classifier\n",
    "classifier1 = GradientBoostingClassifier()\n",
    "classifier1.fit(X_train, y_train)\n",
    "y_pred_gb = classifier1.predict(X_test)\n",
    "print(\"Gradient Boosting Classifier:\")\n",
    "print(classification_report(y_test, y_pred_gb))\n",
    "\n",
    "# Random Forest Classifier\n",
    "classifier2 = RandomForestClassifier()\n",
    "classifier2.fit(X_train, y_train)\n",
    "y_pred_rf = classifier2.predict(X_test)\n",
    "print(\"\\nRandom Forest Classifier:\")\n",
    "print(classification_report(y_test, y_pred_rf))\n"
   ]
  },
  {
   "cell_type": "code",
   "execution_count": 180,
   "id": "845c0820",
   "metadata": {},
   "outputs": [
    {
     "name": "stdout",
     "output_type": "stream",
     "text": [
      "Support Vector Classifier:\n",
      "              precision    recall  f1-score   support\n",
      "\n",
      "           0       0.59      0.91      0.72      2077\n",
      "           1       0.81      0.38      0.52      2082\n",
      "\n",
      "    accuracy                           0.65      4159\n",
      "   macro avg       0.70      0.65      0.62      4159\n",
      "weighted avg       0.70      0.65      0.62      4159\n",
      "\n",
      "\n",
      "K-Nearest Neighbors Classifier:\n",
      "              precision    recall  f1-score   support\n",
      "\n",
      "           0       0.94      0.95      0.94      2077\n",
      "           1       0.95      0.94      0.94      2082\n",
      "\n",
      "    accuracy                           0.94      4159\n",
      "   macro avg       0.94      0.94      0.94      4159\n",
      "weighted avg       0.94      0.94      0.94      4159\n",
      "\n",
      "\n",
      "Multinomial Naive Bayes Classifier:\n",
      "              precision    recall  f1-score   support\n",
      "\n",
      "           0       0.00      0.00      0.00      2077\n",
      "           1       0.50      1.00      0.67      2082\n",
      "\n",
      "    accuracy                           0.50      4159\n",
      "   macro avg       0.25      0.50      0.33      4159\n",
      "weighted avg       0.25      0.50      0.33      4159\n",
      "\n"
     ]
    },
    {
     "name": "stderr",
     "output_type": "stream",
     "text": [
      "C:\\Users\\Nagasai\\anaconda3\\envs\\newenv\\lib\\site-packages\\sklearn\\metrics\\_classification.py:1318: UndefinedMetricWarning: Precision and F-score are ill-defined and being set to 0.0 in labels with no predicted samples. Use `zero_division` parameter to control this behavior.\n",
      "  _warn_prf(average, modifier, msg_start, len(result))\n",
      "C:\\Users\\Nagasai\\anaconda3\\envs\\newenv\\lib\\site-packages\\sklearn\\metrics\\_classification.py:1318: UndefinedMetricWarning: Precision and F-score are ill-defined and being set to 0.0 in labels with no predicted samples. Use `zero_division` parameter to control this behavior.\n",
      "  _warn_prf(average, modifier, msg_start, len(result))\n",
      "C:\\Users\\Nagasai\\anaconda3\\envs\\newenv\\lib\\site-packages\\sklearn\\metrics\\_classification.py:1318: UndefinedMetricWarning: Precision and F-score are ill-defined and being set to 0.0 in labels with no predicted samples. Use `zero_division` parameter to control this behavior.\n",
      "  _warn_prf(average, modifier, msg_start, len(result))\n"
     ]
    }
   ],
   "source": [
    "from sklearn.svm import SVC\n",
    "from sklearn.neighbors import KNeighborsClassifier\n",
    "from sklearn.naive_bayes import MultinomialNB\n",
    "from sklearn.metrics import classification_report\n",
    "\n",
    "# Support Vector Classifier\n",
    "classifier3 = SVC(kernel='rbf')\n",
    "classifier3.fit(X_train, y_train)\n",
    "y_pred_svc = classifier3.predict(X_test)\n",
    "\n",
    "# K-Nearest Neighbors Classifier\n",
    "classifier4 = KNeighborsClassifier()\n",
    "classifier4.fit(X_train, y_train)\n",
    "y_pred_knn = classifier4.predict(X_test)\n",
    "\n",
    "# Multinomial Naive Bayes Classifier\n",
    "classifier5 = MultinomialNB()\n",
    "classifier5.fit(X_train, y_train)\n",
    "y_pred_nb = classifier5.predict(X_test)\n",
    "\n",
    "# Print classification reports for all classifiers\n",
    "print(\"Support Vector Classifier:\")\n",
    "print(classification_report(y_test, y_pred_svc))\n",
    "\n",
    "print(\"\\nK-Nearest Neighbors Classifier:\")\n",
    "print(classification_report(y_test, y_pred_knn))\n",
    "\n",
    "print(\"\\nMultinomial Naive Bayes Classifier:\")\n",
    "print(classification_report(y_test, y_pred_nb))\n"
   ]
  },
  {
   "cell_type": "markdown",
   "id": "c2654bf8",
   "metadata": {},
   "source": [
    "## Best Model : Random Forest Classifier"
   ]
  },
  {
   "cell_type": "markdown",
   "id": "304f2a0c",
   "metadata": {},
   "source": [
    "### Plotting Confusion Matrix"
   ]
  },
  {
   "cell_type": "code",
   "execution_count": 184,
   "id": "292fdb1b",
   "metadata": {},
   "outputs": [
    {
     "data": {
      "text/plain": [
       "array([[2020,   57],\n",
       "       [  71, 2011]], dtype=int64)"
      ]
     },
     "execution_count": 184,
     "metadata": {},
     "output_type": "execute_result"
    }
   ],
   "source": [
    "from sklearn.metrics import confusion_matrix\n",
    "cm = confusion_matrix(y_test, y_pred_rf)\n",
    "cm"
   ]
  },
  {
   "cell_type": "code",
   "execution_count": null,
   "id": "a920db8a",
   "metadata": {},
   "outputs": [],
   "source": []
  }
 ],
 "metadata": {
  "kernelspec": {
   "display_name": "Python 3 (ipykernel)",
   "language": "python",
   "name": "python3"
  },
  "language_info": {
   "codemirror_mode": {
    "name": "ipython",
    "version": 3
   },
   "file_extension": ".py",
   "mimetype": "text/x-python",
   "name": "python",
   "nbconvert_exporter": "python",
   "pygments_lexer": "ipython3",
   "version": "3.11.5"
  }
 },
 "nbformat": 4,
 "nbformat_minor": 5
}
